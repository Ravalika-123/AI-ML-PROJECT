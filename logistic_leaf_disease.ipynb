{
  "nbformat": 4,
  "nbformat_minor": 0,
  "metadata": {
    "colab": {
      "provenance": [],
      "include_colab_link": true
    },
    "kernelspec": {
      "name": "python3",
      "display_name": "Python 3"
    },
    "language_info": {
      "name": "python"
    }
  },
  "cells": [
    {
      "cell_type": "markdown",
      "metadata": {
        "id": "view-in-github",
        "colab_type": "text"
      },
      "source": [
        "<a href=\"https://colab.research.google.com/github/Ravalika-123/AI-ML-PROJECT/blob/main/logistic_leaf_disease.ipynb\" target=\"_parent\"><img src=\"https://colab.research.google.com/assets/colab-badge.svg\" alt=\"Open In Colab\"/></a>"
      ]
    },
    {
      "cell_type": "code",
      "execution_count": 3,
      "metadata": {
        "colab": {
          "base_uri": "https://localhost:8080/"
        },
        "id": "lqs8xSlGDPOS",
        "outputId": "331669f0-a112-4b79-f220-b81c9dc734e4"
      },
      "outputs": [
        {
          "output_type": "stream",
          "name": "stdout",
          "text": [
            "[[[0.53179961 0.61478784 0.61838157 ... 0.56464039 0.56353922 0.54745765]\n",
            "  [0.57270784 0.56382627 0.58292275 ... 0.5612051  0.56652902 0.55545608]\n",
            "  [0.60293059 0.54377765 0.56231882 ... 0.54682863 0.55506392 0.54494627]\n",
            "  ...\n",
            "  [0.36699176 0.35170549 0.37828588 ... 0.38624353 0.3850749  0.37400824]\n",
            "  [0.35948118 0.32495255 0.31996431 ... 0.37479255 0.35694314 0.38066706]\n",
            "  [0.37720353 0.37451176 0.31636431 ... 0.36831412 0.36452902 0.44117059]]\n",
            "\n",
            " [[0.56234549 0.50142157 0.49936039 ... 0.59126784 0.54498863 0.47813216]\n",
            "  [0.51533529 0.46793451 0.44085843 ... 0.52141686 0.51072824 0.48103882]\n",
            "  [0.52865451 0.46630157 0.42545451 ... 0.50557373 0.52349529 0.51162078]\n",
            "  ...\n",
            "  [0.31581255 0.34924784 0.35582039 ... 0.34679098 0.38643804 0.33758314]\n",
            "  [0.34994902 0.33306275 0.30026745 ... 0.34026549 0.34516588 0.34852118]\n",
            "  [0.29887922 0.33315686 0.29458902 ... 0.36351255 0.34306235 0.38371961]]\n",
            "\n",
            " [[0.57306784 0.72829608 0.60117765 ... 0.70469922 0.51903333 0.46204667]\n",
            "  [0.54542549 0.66690471 0.60026784 ... 0.71752275 0.5226302  0.59057216]\n",
            "  [0.60207176 0.60356196 0.42150706 ... 0.59401686 0.68822078 0.66487961]\n",
            "  ...\n",
            "  [0.44327137 0.42439294 0.43032235 ... 0.42924392 0.4729851  0.52027137]\n",
            "  [0.44077255 0.49214196 0.43274588 ... 0.57340078 0.46221804 0.47939922]\n",
            "  [0.54599608 0.43698275 0.42110667 ... 0.43264    0.47784314 0.45162196]]\n",
            "\n",
            " ...\n",
            "\n",
            " [[0.57194902 0.58723843 0.59674118 ... 0.53900118 0.53179333 0.51977608]\n",
            "  [0.57359608 0.5896102  0.59890588 ... 0.51478157 0.5197698  0.52926941]\n",
            "  [0.58097647 0.59252157 0.60049804 ... 0.52624039 0.51206784 0.51614627]\n",
            "  ...\n",
            "  [0.3720949  0.37711451 0.38021255 ... 0.5684542  0.55315333 0.53644745]\n",
            "  [0.36848706 0.37446196 0.38239294 ... 0.57374047 0.56678627 0.55103569]\n",
            "  [0.34456392 0.3483302  0.3607302  ... 0.56760714 0.55528039 0.53448824]]\n",
            "\n",
            " [[0.56837569 0.57747059 0.58712549 ... 0.60737725 0.60110431 0.59537098]\n",
            "  [0.58084314 0.58275373 0.58698431 ... 0.59884392 0.60095216 0.60164392]\n",
            "  [0.58775294 0.58308627 0.57798039 ... 0.58866353 0.59176157 0.59576941]\n",
            "  ...\n",
            "  [0.43598078 0.42542392 0.42320431 ... 0.45195765 0.42802824 0.43187137]\n",
            "  [0.44061608 0.42885137 0.43525137 ... 0.4529302  0.44020392 0.44873569]\n",
            "  [0.44179098 0.42854235 0.43920431 ... 0.45279686 0.46698196 0.43946196]]\n",
            "\n",
            " [[0.6024851  0.60106863 0.59872824 ... 0.51010784 0.51437922 0.51265373]\n",
            "  [0.60742627 0.60673451 0.60418706 ... 0.50153529 0.50424902 0.52318235]\n",
            "  [0.61974    0.61924588 0.61856353 ... 0.49966863 0.51792745 0.5502098 ]\n",
            "  ...\n",
            "  [0.61687843 0.61185882 0.61232941 ... 0.21679608 0.22103922 0.19787059]\n",
            "  [0.61915294 0.61317804 0.61232941 ... 0.21759608 0.21832549 0.18812941]\n",
            "  [0.62370039 0.61413333 0.60996863 ... 0.20231765 0.21047294 0.1860102 ]]]\n",
            "[0 0 0 0 0 0 0 0 0 0 0 0 0 0 0 0 0 0 0 0 0 0 0 0 0 0 0 0 0 0 0 0 0 0 0 0 0\n",
            " 0 0 0 0 0 0 0 0 0 0 0 0 0 0 0 0 0 0 0 0 0 0 0 0 0 0 0 0 0 0 0 0 0 0 0 0 0\n",
            " 0 0 0 0 0 0 0 0 0 0 0 0 0 0 0 0 0 0 0 0 0 0 0 0 0 0 0 0 0 0 0 0 0 0 0 0 0\n",
            " 0 0 0 0 0 0 0 0 0 0 0 0 0 0 0 0 0 0 0 0 0 0 0 0 0 0 0 0 0 0 0 0 0 0 0 0 0\n",
            " 0 0 0 0 0 0 0 0 0 0 0 0 0 0 0 0 0 0 0 0 0 0 0 0 0 0 0 0 0 0 0 0 0 0 0 0 0\n",
            " 0 0 0 0 0 0 0 0 0 0 0 0 0 0 0 0 0 0 0 0 0 0 0 0 0 0 0 0 0 0 0 0 0 0 0 0 0\n",
            " 0 0 0 0 0 0 0 0 0 0 0 0 0 0 0 0 0 0 0 0 0 0 0 0 0 0 0 0 0 0 0 0 0 0 0 0 0\n",
            " 0 0 0 0 0 0 0 0 0 0 0 0 0 0 0 0 0 0 0 0 0 0 0 0 0 0 0 0 0 0 0 0 0 0 0 0 0\n",
            " 0 0 0 0 0 0 0 0 0 0 0 0 0 0 0 0 0 0 0 0 0 0 0 0 0 0 0 0 0 0 0 0 0 0 0 0 0\n",
            " 0 0 0 0 0 0 0 0 0 0 0 0 0 0 0 0 0 0 0 0 0 0 0 0 0 0 0 0 0 0 0 0 0 0 0 0 0\n",
            " 0 0 0 0 0 0 0 0 0 0 0 0 0 0 0 0 0 0 0 0 0 0 0 0 0 0 0 0 0 0 0 0 0 0 0 0 0\n",
            " 0 0 0 0 0 0 0 0 0 0 0 0 0 0 0 0 0 0 0 0 0 0 0 0 0 0 0 0 0 0 0 0 0 0 0 0 0\n",
            " 0 0 0 0 0 0 0 0 0 0 0 0 0 0 0 0 0 0 0 0 0 0 0 0 0 0 0 0 0 0 0 0 0 0 0 0 0\n",
            " 0 0 0 0 0 0 0 0 0 0 0 0 0 0 0 0 0 0 0 1 1 1 1 1 1 1 1 1 1 1 1 1 1 1 1 1 1\n",
            " 1 1 1 1 1 1 1 1 1 1 1 1 1 1 1 1 1 1 1 1 1 1 1 1 1 1 1 1 1 1 1 1 1 1 1 1 1\n",
            " 1 1 1 1 1 1 1 1 1 1 1 1 1 1 1 1 1 1 1 1 1 1 1 1 1 1 1 1 1 1 1 1 1 1 1 1 1\n",
            " 1 1 1 1 1 1 1 1 1 1 1 1 1 1 1 1 1 1 1 1 1 1 1 1 1 1 1 1 1 1 1 1 1 1 1 1 1\n",
            " 1 1 1 1 1 1 1 1 1 1 1 1 1 1 1 1 1 1 1 1 1 1 1 1 1 1 1 1 1 1 1 1 1 1 1 1 1\n",
            " 1 1 1 1 1 1 1 1 1 1 1 1 1 1 1 1 1 1 1 1 1 1 1 1 1 1 1 1 1 1 1 1 1 1 1 1 1\n",
            " 1 1 1 1 1 1 1 1 1 1 1 1 1 1 1 1 1 1 1 1 1 1 1 1 1 1 1 1 1 1 1 1 1 1 1 1 1\n",
            " 1 1 1 1 1 1 1 1 1 1 1 1 1 1 1 1 1 1 1 1 1 1 1 1 1 1 1 1 1 1 1 1 1 1 1 1 1\n",
            " 1 1 1 1 1 1 1 1 1 1 1 1 1 1 1 1 1 1 1 1 1 1 1 1 1 1 1 1 1 1 1 1 1 1 1 1 1\n",
            " 1 1 1 1 1 1 1 1 1 1 1 1 1 1 1 1 1 1 1 1 1 1 1 1 1 1 1 1 1 1 1 1 1 1 1 1 1\n",
            " 1 1 1 1 1 1 1 1 1 1 1 1 1 1 1 1 1 1 1 1 1 1 1 1 1 1 1 1 1 1 1 1 1 1 1 1 1\n",
            " 1 1 1 1 1 1 1 1 1 1 1 1 1 1 1 1 1 1 1 1 1 1 1 1 1 1 1 1 1 1 1 1 1 1 1 1 1\n",
            " 1 1 1 1 1 1 1 1 1 1 1 1 1 1 1 1 1 1 1 1 1 1 1 1 1 1 1 1 1 1 1 1 1 1 1 1 1\n",
            " 1 1 1 1 1 1 1 1 1 1 1 1 1 1 1 1 1 1 1 1 1 1 1 1 1 1 1 1 1 1 1 1 1 1 1 1 1\n",
            " 1]\n",
            "(1000, 200, 200) (1000,)\n",
            "Accuracy: 0.775\n",
            "Accuracy Percentage: 77.5 %\n"
          ]
        },
        {
          "output_type": "stream",
          "name": "stderr",
          "text": [
            "/usr/local/lib/python3.9/dist-packages/sklearn/linear_model/_logistic.py:458: ConvergenceWarning: lbfgs failed to converge (status=1):\n",
            "STOP: TOTAL NO. of ITERATIONS REACHED LIMIT.\n",
            "\n",
            "Increase the number of iterations (max_iter) or scale the data as shown in:\n",
            "    https://scikit-learn.org/stable/modules/preprocessing.html\n",
            "Please also refer to the documentation for alternative solver options:\n",
            "    https://scikit-learn.org/stable/modules/linear_model.html#logistic-regression\n",
            "  n_iter_i = _check_optimize_result(\n"
          ]
        }
      ],
      "source": [
        "import os\n",
        "import numpy as np\n",
        "from skimage.io import imread\n",
        "import matplotlib.pyplot as plt\n",
        "from skimage.color import rgb2gray\n",
        "from skimage.transform import resize\n",
        "from sklearn.model_selection import train_test_split\n",
        "from sklearn.linear_model import LogisticRegression\n",
        "from sklearn.metrics import accuracy_score\n",
        "     \n",
        "\n",
        "data_dir = '/content/drive/MyDrive/LEAF DISEASE DATASET'\n",
        "classes = ['TomatoHealthy', 'TomatoDiseases']\n",
        "num_classes = len(classes)\n",
        "img_size = (200,200)\n",
        "\n",
        "X = []\n",
        "y = []\n",
        "for i in range(num_classes):\n",
        "    path = os.path.join(data_dir, classes[i])\n",
        "    for img in os.listdir(path):\n",
        "        try:\n",
        "            img_array = resize(rgb2gray(plt.imread(os.path.join(path, img))), img_size)\n",
        "            X.append(img_array)\n",
        "            y.append(i)\n",
        "        except Exception as e:\n",
        "            print(e)\n",
        "\n",
        "\n",
        "X = np.array(X)\n",
        "y = np.array(y)\n",
        "\n",
        "print(X)\n",
        "print(y)\n",
        "\n",
        "print(X.shape, y.shape)\n",
        "\n",
        "X_train, X_test, y_train, y_test = train_test_split(X, y, test_size=0.2, random_state=42)\n",
        "\n",
        "     \n",
        "\n",
        "model = LogisticRegression()\n",
        "X_train_flat = X_train.reshape(X_train.shape[0], -1)\n",
        "X_test_flat = X_test.reshape(X_test.shape[0], -1)\n",
        "\n",
        "model.fit(X_train_flat, y_train)\n",
        "\n",
        "\n",
        "y_pred = model.predict(X_test_flat)\n",
        "\n",
        "\n",
        "acc = accuracy_score(y_test, y_pred)\n",
        "\n",
        "print('Accuracy:', acc)\n",
        "print('Accuracy Percentage:',round(acc*100,3),\"%\")"
      ]
    },
    {
      "cell_type": "code",
      "source": [
        "from google.colab import drive\n",
        "drive.mount('/content/drive')"
      ],
      "metadata": {
        "id": "NKy4bWGp9HCb",
        "outputId": "5399a05e-0c41-4801-bdff-502e0816c8c1",
        "colab": {
          "base_uri": "https://localhost:8080/"
        }
      },
      "execution_count": 2,
      "outputs": [
        {
          "output_type": "stream",
          "name": "stdout",
          "text": [
            "Mounted at /content/drive\n"
          ]
        }
      ]
    }
  ]
}