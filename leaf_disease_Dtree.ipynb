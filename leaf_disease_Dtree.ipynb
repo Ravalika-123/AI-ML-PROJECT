{
  "nbformat": 4,
  "nbformat_minor": 0,
  "metadata": {
    "colab": {
      "provenance": [],
      "include_colab_link": true
    },
    "kernelspec": {
      "name": "python3",
      "display_name": "Python 3"
    },
    "language_info": {
      "name": "python"
    }
  },
  "cells": [
    {
      "cell_type": "markdown",
      "metadata": {
        "id": "view-in-github",
        "colab_type": "text"
      },
      "source": [
        "<a href=\"https://colab.research.google.com/github/Ravalika-123/AI-ML-PROJECT/blob/main/leaf_disease_Dtree.ipynb\" target=\"_parent\"><img src=\"https://colab.research.google.com/assets/colab-badge.svg\" alt=\"Open In Colab\"/></a>"
      ]
    },
    {
      "cell_type": "code",
      "execution_count": 3,
      "metadata": {
        "colab": {
          "base_uri": "https://localhost:8080/"
        },
        "id": "paSBPF2nN4Bp",
        "outputId": "db1bdf50-2290-46a9-b85a-17840fa64e87"
      },
      "outputs": [
        {
          "output_type": "stream",
          "name": "stdout",
          "text": [
            "(1000, 150, 150) (1000,)\n",
            "Accuracy: 0.81\n",
            "Accuracy Percentage: 81.0 %\n"
          ]
        }
      ],
      "source": [
        "import os\n",
        "import numpy as np\n",
        "import matplotlib.pyplot as plt\n",
        "from skimage.color import rgb2gray\n",
        "from skimage.transform import resize\n",
        "from sklearn.tree import DecisionTreeClassifier\n",
        "from sklearn.model_selection import train_test_split\n",
        "from sklearn.metrics import accuracy_score\n",
        "\n",
        "data_dir = '/content/drive/MyDrive/LEAF DISEASE DATASET'\n",
        "classes = ['TomatoHealthy', 'TomatoDiseases']\n",
        "num_classes = len(classes)\n",
        "img_size = (150,150)\n",
        "X = []\n",
        "y = []\n",
        "for i, cls in enumerate(classes):\n",
        "    path = os.path.join(data_dir, cls)\n",
        "    for img in os.listdir(path):\n",
        "        try:\n",
        "            # Convert image to grayscale and resize to a fixed size\n",
        "            img_array = resize(rgb2gray(plt.imread(os.path.join(path, img))), img_size)\n",
        "            X.append(img_array)  # Store the image array\n",
        "            y.append(i)  # Store the class label\n",
        "        except Exception as e:\n",
        "            print(e)\n",
        "X = np.array(X)\n",
        "y = np.array(y)\n",
        "print(X.shape, y.shape)\n",
        "\n",
        "X_train, X_test, y_train, y_test = train_test_split(X, y, test_size=0.2, random_state=42)\n",
        "\n",
        "X_train = X_train.reshape(X_train.shape[0], -1)\n",
        "X_test = X_test.reshape(X_test.shape[0], -1)\n",
        "\n",
        "clf = DecisionTreeClassifier()\n",
        "clf.fit(X_train, y_train)\n",
        "\n",
        "y_pred = clf.predict(X_test)\n",
        "acc = accuracy_score(y_test, y_pred)\n",
        "\n",
        "print('Accuracy:', acc)\n",
        "print('Accuracy Percentage:', round(acc*100,3),\"%\")"
      ]
    },
    {
      "cell_type": "code",
      "source": [
        "from google.colab import drive\n",
        "drive.mount('/content/drive')"
      ],
      "metadata": {
        "id": "fcIY9iQw5M85",
        "outputId": "092b88ff-4527-4308-ad13-20ec0662ef79",
        "colab": {
          "base_uri": "https://localhost:8080/"
        }
      },
      "execution_count": 2,
      "outputs": [
        {
          "output_type": "stream",
          "name": "stdout",
          "text": [
            "Mounted at /content/drive\n"
          ]
        }
      ]
    }
  ]
}